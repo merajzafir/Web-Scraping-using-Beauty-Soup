{
  "nbformat": 4,
  "nbformat_minor": 0,
  "metadata": {
    "colab": {
      "name": "Web Scraping.ipynb",
      "provenance": [],
      "collapsed_sections": []
    },
    "kernelspec": {
      "name": "python3",
      "display_name": "Python 3"
    }
  },
  "cells": [
    {
      "cell_type": "markdown",
      "metadata": {
        "id": "VLs8og7RhrdX",
        "colab_type": "text"
      },
      "source": [
        "**Web Scraping is a technique to extract data from a website and saved to a local file in your computer**"
      ]
    },
    {
      "cell_type": "markdown",
      "metadata": {
        "id": "85kiRDL-iHLv",
        "colab_type": "text"
      },
      "source": [
        "It involves **Parsing** ,i.e., interpreting HTML Code"
      ]
    },
    {
      "cell_type": "markdown",
      "metadata": {
        "id": "qCh3L7J6jBGM",
        "colab_type": "text"
      },
      "source": [
        "Python Packages for Scraping\n",
        "1.  **Beautiful Soup**\n",
        "2.  **Requests**\n",
        "\n"
      ]
    },
    {
      "cell_type": "code",
      "metadata": {
        "id": "wWcpgYFxkBKr",
        "colab_type": "code",
        "colab": {}
      },
      "source": [
        "from bs4 import BeautifulSoup as soup\n",
        "from urllib.request import urlopen as uReq\n",
        "\n",
        "my_url='https://www.flipkart.com/search?q=iphone&sid=tyy%2C4io&as=on&as-show=on&otracker=AS_QueryStore_OrganicAutoSuggest_1_4_na_na_na&otracker1=AS_QueryStore_OrganicAutoSuggest_1_4_na_na_na&as-pos=1&as-type=RECENT&suggestionId=iphone%7CMobiles&requestId=9ca217c7-4f77-4f08-96dc-59c3df4cd1e8&as-searchtext=ipho'\n",
        "uClient=uReq(my_url)#Open Connection\n",
        "page_html=uClient.read()\n",
        "uClient.close()#Closed Connection\n",
        "page_soup=soup(page_html,\"html.parser\")# Parsing"
      ],
      "execution_count": 2,
      "outputs": []
    },
    {
      "cell_type": "code",
      "metadata": {
        "id": "dQMhVN6dxcbA",
        "colab_type": "code",
        "colab": {
          "base_uri": "https://localhost:8080/",
          "height": 1000
        },
        "outputId": "4cd328c1-dde8-42e8-ef54-73f34dbe6638"
      },
      "source": [
        "containers=page_soup.findAll(\"div\",{\"class\":\"_3O0U0u\"})#main container \n",
        "print(soup.prettify(containers[0]))\n",
        "container=containers[0]"
      ],
      "execution_count": 25,
      "outputs": [
        {
          "output_type": "stream",
          "text": [
            "<div class=\"_3O0U0u\">\n",
            " <div data-id=\"MOBFRFXHCKWDAC4A\" style=\"width:100%\">\n",
            "  <div class=\"_1UoZlX\">\n",
            "   <a class=\"_31qSD5\" href=\"/apple-iphone-se-black-64-gb/p/itm832dd5963a08d?pid=MOBFRFXHCKWDAC4A&amp;lid=LSTMOBFRFXHCKWDAC4AEQROVZ&amp;marketplace=FLIPKART&amp;srno=s_1_1&amp;otracker=AS_QueryStore_OrganicAutoSuggest_1_4_na_na_na&amp;otracker1=AS_QueryStore_OrganicAutoSuggest_1_4_na_na_na&amp;fm=organic&amp;iid=68263bbd-2570-4552-a2d0-2127a2bed8a5.MOBFRFXHCKWDAC4A.SEARCH&amp;ssid=0u9kkbcdjk0000001600953437868&amp;qH=0b3f45b266a97d70\" rel=\"noopener noreferrer\" target=\"_blank\">\n",
            "    <div class=\"_3SQWE6\">\n",
            "     <div class=\"_1OCn9C\">\n",
            "      <div>\n",
            "       <div class=\"_3BTv9X\" style=\"height:200px;width:200px\">\n",
            "        <img alt=\"Apple iPhone SE (Black, 64 GB)\" class=\"_1Nyybr\" src=\"//img1a.flixcart.com/www/linchpin/fk-cp-zion/img/placeholder_9951d0.svg\"/>\n",
            "       </div>\n",
            "      </div>\n",
            "     </div>\n",
            "     <div class=\"_2lesQu\">\n",
            "      <div class=\"_1O_CiZ\">\n",
            "       <span class=\"_1iHA1p\">\n",
            "        <div class=\"_2kFyHg\">\n",
            "         <label>\n",
            "          <input class=\"_3uUUD5\" readonly=\"\" type=\"checkbox\"/>\n",
            "          <div class=\"_1p7h2j\">\n",
            "          </div>\n",
            "         </label>\n",
            "        </div>\n",
            "       </span>\n",
            "       <label class=\"_10TB-Q\">\n",
            "        <span>\n",
            "         Add to Compare\n",
            "        </span>\n",
            "       </label>\n",
            "      </div>\n",
            "     </div>\n",
            "     <div class=\"_3gDSOa _32A6AP\">\n",
            "      <div class=\"DsQ2eg\">\n",
            "       <svg class=\"_2oLiqr\" height=\"16\" viewbox=\"0 0 20 16\" width=\"16\" xmlns=\"http://www.w3.org/2000/svg\">\n",
            "        <path class=\"_35Y7Yo\" d=\"M8.695 16.682C4.06 12.382 1 9.536 1 6.065 1 3.219 3.178 1 5.95 1c1.566 0 3.069.746 4.05 1.915C10.981 1.745 12.484 1 14.05 1 16.822 1 19 3.22 19 6.065c0 3.471-3.06 6.316-7.695 10.617L10 17.897l-1.305-1.215z\" fill=\"#2874F0\" fill-rule=\"evenodd\" opacity=\".9\" stroke=\"#FFF\">\n",
            "        </path>\n",
            "       </svg>\n",
            "      </div>\n",
            "     </div>\n",
            "    </div>\n",
            "    <div class=\"_1-2Iqu row\">\n",
            "     <div class=\"col col-7-12\">\n",
            "      <div class=\"_3wU53n\">\n",
            "       Apple iPhone SE (Black, 64 GB)\n",
            "      </div>\n",
            "      <div class=\"niH0FQ\">\n",
            "       <span class=\"_2_KrJI\" id=\"productRating_LSTMOBFRFXHCKWDAC4AEQROVZ_MOBFRFXHCKWDAC4A_\">\n",
            "        <div class=\"hGSR34\">\n",
            "         4.5\n",
            "         <img class=\"_2lQ_WZ\" src=\"data:image/svg+xml;base64,PHN2ZyB4bWxucz0iaHR0cDovL3d3dy53My5vcmcvMjAwMC9zdmciIHdpZHRoPSIxMyIgaGVpZ2h0PSIxMiI+PHBhdGggZmlsbD0iI0ZGRiIgZD0iTTYuNSA5LjQzOWwtMy42NzQgMi4yMy45NC00LjI2LTMuMjEtMi44ODMgNC4yNTQtLjQwNEw2LjUuMTEybDEuNjkgNC4wMSA0LjI1NC40MDQtMy4yMSAyLjg4Mi45NCA0LjI2eiIvPjwvc3ZnPg==\"/>\n",
            "        </div>\n",
            "       </span>\n",
            "       <span class=\"_38sUEc\">\n",
            "        <span>\n",
            "         <span>\n",
            "          24,335 Ratings\n",
            "         </span>\n",
            "         <span class=\"_1VpSqZ\">\n",
            "          &amp;\n",
            "         </span>\n",
            "         <span>\n",
            "          2,362 Reviews\n",
            "         </span>\n",
            "        </span>\n",
            "       </span>\n",
            "      </div>\n",
            "      <div class=\"_3ULzGw\">\n",
            "       <ul class=\"vFw0gD\">\n",
            "        <li class=\"tVe95H\">\n",
            "         64 GB ROM\n",
            "        </li>\n",
            "        <li class=\"tVe95H\">\n",
            "         11.94 cm (4.7 inch) Retina HD Display\n",
            "        </li>\n",
            "        <li class=\"tVe95H\">\n",
            "         12MP Rear Camera | 7MP Front Camera\n",
            "        </li>\n",
            "        <li class=\"tVe95H\">\n",
            "         A13 Bionic Chip with 3rd Gen Neural Engine Processor\n",
            "        </li>\n",
            "        <li class=\"tVe95H\">\n",
            "         Water and Dust Resistant (1 meter for Upto 30 minutes, IP67)\n",
            "        </li>\n",
            "        <li class=\"tVe95H\">\n",
            "         Fast Charge Capable\n",
            "        </li>\n",
            "        <li class=\"tVe95H\">\n",
            "         Wireless charging (Works with Qi Chargers | Qi Chargers are Sold Separately\n",
            "        </li>\n",
            "        <li class=\"tVe95H\">\n",
            "         Brand Warranty for 1 Year\n",
            "        </li>\n",
            "       </ul>\n",
            "      </div>\n",
            "     </div>\n",
            "     <div class=\"col col-5-12 _2o7WAb\">\n",
            "      <div class=\"_6BWGkk\">\n",
            "       <div class=\"_1uv9Cb\">\n",
            "        <div class=\"_1vC4OE _2rQ-NK\">\n",
            "         ₹37,900\n",
            "        </div>\n",
            "        <div class=\"_3auQ3N _2GcJzG\">\n",
            "         ₹\n",
            "         <!-- -->\n",
            "         42,500\n",
            "        </div>\n",
            "        <div class=\"VGWI6T\">\n",
            "         <span>\n",
            "          10% off\n",
            "         </span>\n",
            "        </div>\n",
            "       </div>\n",
            "      </div>\n",
            "      <div class=\"_3n6o0t\">\n",
            "       <img height=\"21\" src=\"//img1a.flixcart.com/www/linchpin/fk-cp-zion/img/fa_8b4b59.png\"/>\n",
            "      </div>\n",
            "      <div class=\"_2nE8_R\">\n",
            "       <div class=\"_3_G5Wj\" style=\"color:#000000;font-size:12px;font-family:inherit;font-weight:normal\">\n",
            "        No Cost EMI\n",
            "       </div>\n",
            "      </div>\n",
            "      <div class=\"_2nE8_R\">\n",
            "       <div class=\"_3_G5Wj\" style=\"color:#000000;font-size:14px;font-family:inherit;font-weight:normal\">\n",
            "        Upto\n",
            "       </div>\n",
            "       <div class=\"_3_G5Wj\" style=\"color:#000000;font-size:14px;font-family:inherit;font-weight:bold\">\n",
            "        ₹17,500\n",
            "       </div>\n",
            "       <div class=\"_3_G5Wj\" style=\"color:#000000;font-size:14px;font-family:inherit;font-weight:normal\">\n",
            "        Off on Exchange\n",
            "       </div>\n",
            "      </div>\n",
            "     </div>\n",
            "    </div>\n",
            "   </a>\n",
            "  </div>\n",
            " </div>\n",
            "</div>\n"
          ],
          "name": "stdout"
        }
      ]
    },
    {
      "cell_type": "code",
      "metadata": {
        "id": "DDsdBiNmuH6b",
        "colab_type": "code",
        "colab": {
          "base_uri": "https://localhost:8080/",
          "height": 68
        },
        "outputId": "fda6b949-8cc0-4bd7-b0cb-d90633cdd351"
      },
      "source": [
        "item=container.findAll(\"div\",{\"class\":\"_3wU53n\"})\n",
        "print(item[0].text)\n",
        "\n",
        "price=container.findAll(\"div\",{\"class\":\"_1vC4OE _2rQ-NK\"})\n",
        "print(price[0].text)\n",
        "\n",
        "rating=container.findAll(\"div\",{\"class\":\"hGSR34\"})\n",
        "print(rating[0].text)"
      ],
      "execution_count": 27,
      "outputs": [
        {
          "output_type": "stream",
          "text": [
            "Apple iPhone SE (Black, 64 GB)\n",
            "₹37,900\n",
            "4.5\n"
          ],
          "name": "stdout"
        }
      ]
    },
    {
      "cell_type": "code",
      "metadata": {
        "id": "DWAmyAHEwMEE",
        "colab_type": "code",
        "colab": {
          "base_uri": "https://localhost:8080/",
          "height": 833
        },
        "outputId": "833f07f8-81db-4bfa-981a-51fb7de2fbc1"
      },
      "source": [
        "filename=\"products.csv\"\n",
        "f=open(filename,\"w\")\n",
        "\n",
        "headers=\"Product_Name,Price,Ratings\\n\"\n",
        "f.write(headers)\n",
        "\n",
        "for container in containers:\n",
        "  item=container.findAll(\"div\",{\"class\":\"_3wU53n\"})\n",
        "  Product_Name=item[0].text\n",
        "\n",
        "  price=container.findAll(\"div\",{\"class\":\"_1vC4OE _2rQ-NK\"})\n",
        "  Price=price[0].text.strip()\n",
        "\n",
        "  rating=container.findAll(\"div\",{\"class\":\"hGSR34\"})\n",
        "  Ratings=rating[0].text\n",
        "\n",
        "  '''print(\"Product :\" + Product_Name)\n",
        "  print(\"Price :\" + Price)\n",
        "  print(\"Ratings :\" + Ratings)'''\n",
        "\n",
        "  trim_price=''.join(Price.split(','))\n",
        "  rm_rupees=trim_price.split('₹')\n",
        "  add_rs_price='Rs.'+ rm_rupees[1]\n",
        "  final_price=add_rs_price\n",
        "  \n",
        "  print(Product_Name.replace(',','|')+\",\"+final_price+\",\"+Ratings+\"\\n\")\n",
        "  f.write(Product_Name.replace(',','|')+\",\"+final_price+\",\"+Ratings+\"\\n\")\n",
        "\n",
        "f.close()"
      ],
      "execution_count": 39,
      "outputs": [
        {
          "output_type": "stream",
          "text": [
            "Apple iPhone SE (Black| 64 GB),Rs.37900,4.5\n",
            "\n",
            "Apple iPhone SE (White| 64 GB),Rs.37900,4.5\n",
            "\n",
            "Apple iPhone SE (Red| 64 GB),Rs.37900,4.5\n",
            "\n",
            "Apple iPhone XR (Black| 64 GB),Rs.47500,4.6\n",
            "\n",
            "Apple iPhone XR (White| 64 GB),Rs.47500,4.6\n",
            "\n",
            "Apple iPhone XR (White| 128 GB),Rs.53500,4.6\n",
            "\n",
            "Apple iPhone XR (Black| 128 GB),Rs.53500,4.6\n",
            "\n",
            "Apple iPhone SE (Black| 128 GB),Rs.43900,4.5\n",
            "\n",
            "Apple iPhone SE (White| 128 GB),Rs.43900,4.5\n",
            "\n",
            "Apple iPhone SE (Red| 128 GB),Rs.43900,4.5\n",
            "\n",
            "Apple iPhone XR ((PRODUCT)RED| 64 GB),Rs.47500,4.6\n",
            "\n",
            "Apple iPhone XR (Blue| 64 GB),Rs.47500,4.6\n",
            "\n",
            "Apple iPhone XR ((PRODUCT)RED| 128 GB),Rs.53500,4.6\n",
            "\n",
            "Apple iPhone XR (Blue| 128 GB),Rs.53500,4.6\n",
            "\n",
            "Apple iPhone XR (Coral| 64 GB),Rs.47500,4.6\n",
            "\n",
            "Apple iPhone 7 (Black| 32 GB),Rs.29799,4.5\n",
            "\n",
            "Apple iPhone 11 (White| 64 GB),Rs.66990,4.7\n",
            "\n",
            "Apple iPhone 11 (Green| 128 GB),Rs.72990,4.7\n",
            "\n",
            "Apple iPhone 11 (Green| 64 GB),Rs.66990,4.7\n",
            "\n",
            "Apple iPhone 11 (Black| 64 GB),Rs.66990,4.7\n",
            "\n",
            "Apple iPhone SE (Black| 256 GB),Rs.53900,4.5\n",
            "\n",
            "Apple iPhone 11 (Black| 128 GB),Rs.72990,4.7\n",
            "\n",
            "Apple iPhone 11 (Purple| 64 GB),Rs.66990,4.7\n",
            "\n",
            "Apple iPhone 11 (Purple| 128 GB),Rs.72990,4.7\n",
            "\n"
          ],
          "name": "stdout"
        }
      ]
    }
  ]
}